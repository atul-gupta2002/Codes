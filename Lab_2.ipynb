{
  "nbformat": 4,
  "nbformat_minor": 0,
  "metadata": {
    "colab": {
      "provenance": [],
      "authorship_tag": "ABX9TyOXdBfW3l/2RJPtbakgnljg",
      "include_colab_link": true
    },
    "kernelspec": {
      "name": "python3",
      "display_name": "Python 3"
    },
    "language_info": {
      "name": "python"
    }
  },
  "cells": [
    {
      "cell_type": "markdown",
      "metadata": {
        "id": "view-in-github",
        "colab_type": "text"
      },
      "source": [
        "<a href=\"https://colab.research.google.com/github/atul-gupta2002/Codes/blob/main/Lab_2.ipynb\" target=\"_parent\"><img src=\"https://colab.research.google.com/assets/colab-badge.svg\" alt=\"Open In Colab\"/></a>"
      ]
    },
    {
      "cell_type": "markdown",
      "source": [
        "Question 1\n",
        "\n",
        "Given two vectors 𝑎=[1,3,−5] and 𝑏=[4,−2,−1],calculate the dot product of these vectors."
      ],
      "metadata": {
        "id": "dGZLABWNVY0b"
      }
    },
    {
      "cell_type": "code",
      "source": [
        "import numpy as np\n",
        "\n",
        "a = np.array([1, 3, -5])\n",
        "b = np.array([4, -2, -1])\n",
        "\n",
        "dot_product = np.dot(a, b)\n",
        "\n",
        "print(dot_product)"
      ],
      "metadata": {
        "colab": {
          "base_uri": "https://localhost:8080/"
        },
        "id": "EshjzDa8Upmz",
        "outputId": "856aad2e-ba8e-4418-e235-af487e8e7978"
      },
      "execution_count": 2,
      "outputs": [
        {
          "output_type": "stream",
          "name": "stdout",
          "text": [
            "3\n"
          ]
        }
      ]
    },
    {
      "cell_type": "code",
      "source": [],
      "metadata": {
        "id": "YnXziR74XJx5"
      },
      "execution_count": null,
      "outputs": []
    },
    {
      "cell_type": "markdown",
      "source": [
        "Question 2\n",
        "\n",
        "Given the dataset data=[2,4,4,4,5,5,7,9],calculate the mean,variance,and standard deviation of the dataset.\n"
      ],
      "metadata": {
        "id": "yvnEkIiUVWl6"
      }
    },
    {
      "cell_type": "code",
      "source": [
        "import numpy as np\n",
        "\n",
        "data = [2, 4, 4, 4, 5, 5, 7, 9]\n",
        "\n",
        "mean = np.mean(data)\n",
        "\n",
        "variance = np.var(data)\n",
        "\n",
        "std_dev = np.std(data)\n",
        "\n",
        "print(\"Mean:\", mean)\n",
        "print(\"Variance:\", variance)\n",
        "print(\"Standard Deviation:\", std_dev)"
      ],
      "metadata": {
        "colab": {
          "base_uri": "https://localhost:8080/"
        },
        "id": "Bp2dBu6GVTIA",
        "outputId": "ce54a295-ed06-4522-9c85-532912534024"
      },
      "execution_count": 3,
      "outputs": [
        {
          "output_type": "stream",
          "name": "stdout",
          "text": [
            "Mean: 5.0\n",
            "Variance: 4.0\n",
            "Standard Deviation: 2.0\n"
          ]
        }
      ]
    },
    {
      "cell_type": "markdown",
      "source": [
        "Question 3\n",
        "\n",
        "Plot the line with aslope 𝑚=3 and intercept 𝑐=−2 on a graph for 𝑥 values ranging from -5 to 5.\n"
      ],
      "metadata": {
        "id": "QKYfBZhQV6IM"
      }
    },
    {
      "cell_type": "markdown",
      "source": [],
      "metadata": {
        "id": "lmHASGCUUU3i"
      }
    },
    {
      "cell_type": "code",
      "source": [
        "import matplotlib.pyplot as plt\n",
        "import numpy as np\n",
        "\n",
        "m = 3\n",
        "c = -2\n",
        "\n",
        "x = np.linspace(-5, 5, 100)\n",
        "\n",
        "y = m * x + c\n",
        "\n",
        "plt.plot(x, y)\n",
        "plt.xlabel('x')\n",
        "plt.ylabel('y')\n",
        "plt.title('Line with Slope 3 and Intercept -2')\n",
        "plt.grid(True)\n",
        "plt.show()"
      ],
      "metadata": {
        "colab": {
          "base_uri": "https://localhost:8080/",
          "height": 472
        },
        "id": "BD7QllnIV-h8",
        "outputId": "e55a3269-b803-415d-921b-b720c80d7e05"
      },
      "execution_count": 4,
      "outputs": [
        {
          "output_type": "display_data",
          "data": {
            "text/plain": [
              "<Figure size 640x480 with 1 Axes>"
            ],
            "image/png": "[encoded data removed]"
          },
          "metadata": {}
        }
      ]
    },
    {
      "cell_type": "markdown",
      "source": [
        "Question 4\n",
        "\n",
        "Create a NumPy array with the elements [ 2 , 4 , 6 , 8 , 10 ]. Write a function to return an array\n",
        "with each element squared"
      ],
      "metadata": {
        "id": "XnVsDXuZWlw6"
      }
    },
    {
      "cell_type": "code",
      "source": [
        "import numpy as np\n",
        "\n",
        "\n",
        "arr = np.array([2, 4, 6, 8, 10])\n",
        "\n",
        "def square_elements(arr):\n",
        "  return np.square(arr)\n",
        "\n",
        "squared_arr = square_elements(arr)\n",
        "\n",
        "print(squared_arr)"
      ],
      "metadata": {
        "colab": {
          "base_uri": "https://localhost:8080/"
        },
        "id": "I6IWMNhXWqk6",
        "outputId": "3fc2f58f-0e3a-452b-951e-d56127fbc827"
      },
      "execution_count": 5,
      "outputs": [
        {
          "output_type": "stream",
          "name": "stdout",
          "text": [
            "[  4  16  36  64 100]\n"
          ]
        }
      ]
    },
    {
      "cell_type": "markdown",
      "source": [
        "Question 5\n",
        "\n",
        "Given the dataset 𝑋 = [ 1 , 2 , 3 , 4 ] and 𝑦 = [ 2 , 2.5 , 3 , 3.5 ], manually calculate the slope 𝑚\n",
        "and intercept 𝑐 of the best-fit line using the linear regression formulas."
      ],
      "metadata": {
        "id": "VprQ-zGgYDT3"
      }
    },
    {
      "cell_type": "code",
      "source": [
        "import numpy as np\n",
        "\n",
        "# Sample data (replace with your actual data)\n",
        "x = np.array([1, 2, 3, 4, 5])\n",
        "y = np.array([2, 3, 5, 6, 8])\n",
        "\n",
        "\n",
        "x̄ = np.mean(x)\n",
        "ȳ = np.mean(y)\n",
        "\n",
        "m = np.sum((x - x̄) * (y - ȳ)) / np.sum((x - x̄)**2)\n",
        "c = ȳ - m * x̄\n",
        "\n",
        "print(\"Slope (m):\", m)\n",
        "print(\"Intercept (c):\", c)"
      ],
      "metadata": {
        "colab": {
          "base_uri": "https://localhost:8080/"
        },
        "id": "ZgNafxiTYsh4",
        "outputId": "9c1b65dc-e4bc-4311-e2fe-e5392823f8ec"
      },
      "execution_count": 8,
      "outputs": [
        {
          "output_type": "stream",
          "name": "stdout",
          "text": [
            "Slope (m): 1.5\n",
            "Intercept (c): 0.2999999999999998\n"
          ]
        }
      ]
    },
    {
      "cell_type": "markdown",
      "source": [
        "Question 6\n",
        "\n",
        "Create a scatter plot for the following dataset: 𝑋 = [ 1 , 2 , 3 , 4 , 5 ] and 𝑦 = [ 2 , 3 , 5 , 7 , 11 ].\n",
        "Comment on the relationship between 𝑋 and 𝑦."
      ],
      "metadata": {
        "id": "clfSUauTZA7S"
      }
    },
    {
      "cell_type": "code",
      "source": [
        "import matplotlib.pyplot as plt\n",
        "\n",
        "X = [1, 2, 3, 4, 5]\n",
        "y = [2, 3, 5, 7, 11]\n",
        "\n",
        "plt.scatter(X, y)\n",
        "plt.xlabel('X')\n",
        "plt.ylabel('y')\n",
        "plt.title('Scatter Plot of X and y')\n",
        "plt.grid(True)\n",
        "plt.show()"
      ],
      "metadata": {
        "colab": {
          "base_uri": "https://localhost:8080/",
          "height": 472
        },
        "id": "XsNg59xjZQqZ",
        "outputId": "b18115b6-0a39-4b11-ee1a-3047dfb40256"
      },
      "execution_count": 9,
      "outputs": [
        {
          "output_type": "display_data",
          "data": {
            "text/plain": [
              "<Figure size 640x480 with 1 Axes>"
            ],
            "image/png": "[encoded data removed]"
          },
          "metadata": {}
        }
      ]
    },
    {
      "cell_type": "markdown",
      "source": [
        "Question 7\n",
        "\n",
        "Implement a simple gradient descent algorithm to minimize the cost function for the dataset\n",
        "𝑋 = [ 1 , 2 , 3 , 4 ] and 𝑦 = [ 2 , 4 , 6 , 8 ]. Start with an initial slope 𝑚 = 0 and intercept 𝑐 = 0, and\n",
        "run the algorithm for 100 iterations with a learning rate of 0.01."
      ],
      "metadata": {
        "id": "XhQu6gMLZV8B"
      }
    },
    {
      "cell_type": "code",
      "source": [
        "import numpy as np\n",
        "\n",
        "# Data\n",
        "X = np.array([1, 2, 3, 4])\n",
        "y = np.array([2, 4, 6, 8])\n",
        "\n",
        "# Initial parameters\n",
        "m = 0\n",
        "c = 0\n",
        "\n",
        "# Hyperparameters\n",
        "learning_rate = 0.01\n",
        "num_iterations = 100\n",
        "\n",
        "# Number of data points\n",
        "n = len(X)\n",
        "\n",
        "# Gradient Descent\n",
        "for i in range(num_iterations):\n",
        "  # Predicted values\n",
        "  y_pred = m * X + c\n",
        "\n",
        "  # Derivatives of the cost function with respect to m and c\n",
        "  dm = (-2/n) * np.sum(X * (y - y_pred))\n",
        "  dc = (-2/n) * np.sum(y - y_pred)\n",
        "\n",
        "  # Update parameters\n",
        "  m = m - learning_rate * dm\n",
        "  c = c - learning_rate * dc\n",
        "\n",
        "  # Print progress every 10 iterations\n",
        "  if i % 10 == 0:\n",
        "    cost = (1/n) * np.sum((y - y_pred)**2)\n",
        "    print(f\"Iteration {i}: Cost = {cost:.3f}, Slope (m) = {m:.3f}, Intercept (c) = {c:.3f}\")\n",
        "\n",
        "print(f\"Final values: Slope (m) = {m:.3f}, Intercept (c) = {c:.3f}\")"
      ],
      "metadata": {
        "colab": {
          "base_uri": "https://localhost:8080/"
        },
        "id": "oMv33frMZ_XT",
        "outputId": "2de56157-ea2c-4e37-d1fe-17526b33c65b"
      },
      "execution_count": 11,
      "outputs": [
        {
          "output_type": "stream",
          "name": "stdout",
          "text": [
            "Iteration 0: Cost = 30.000, Slope (m) = 0.300, Intercept (c) = 0.100\n",
            "Iteration 10: Cost = 0.833, Slope (m) = 1.559, Intercept (c) = 0.508\n",
            "Iteration 20: Cost = 0.075, Slope (m) = 1.767, Intercept (c) = 0.559\n",
            "Iteration 30: Cost = 0.052, Slope (m) = 1.805, Intercept (c) = 0.553\n",
            "Iteration 40: Cost = 0.049, Slope (m) = 1.816, Intercept (c) = 0.539\n",
            "Iteration 50: Cost = 0.046, Slope (m) = 1.822, Intercept (c) = 0.523\n",
            "Iteration 60: Cost = 0.043, Slope (m) = 1.827, Intercept (c) = 0.508\n",
            "Iteration 70: Cost = 0.041, Slope (m) = 1.832, Intercept (c) = 0.493\n",
            "Iteration 80: Cost = 0.038, Slope (m) = 1.837, Intercept (c) = 0.478\n",
            "Iteration 90: Cost = 0.036, Slope (m) = 1.842, Intercept (c) = 0.464\n",
            "Final values: Slope (m) = 1.846, Intercept (c) = 0.452\n"
          ]
        }
      ]
    },
    {
      "cell_type": "markdown",
      "source": [
        "Estimate parameters of a model based on Linear Regression method using a given set of\n",
        "training data set."
      ],
      "metadata": {
        "id": "-4XKC0ecaQjl"
      }
    },
    {
      "cell_type": "code",
      "source": [
        "import numpy as np\n",
        "from sklearn.linear_model import LinearRegression\n",
        "\n",
        "# Sample training data (replace with your actual data)\n",
        "X_train = np.array([[1], [2], [3], [4], [5]])  # Features (reshape to 2D array)\n",
        "y_train = np.array([2, 4, 5, 4, 6])  # Target values\n",
        "\n",
        "# Create a linear regression model\n",
        "model = LinearRegression()\n",
        "\n",
        "# Fit the model to the training data\n",
        "model.fit(X_train, y_train)\n",
        "\n",
        "# Get the estimated parameters\n",
        "slope = model.coef_[0]\n",
        "intercept = model.intercept_\n",
        "\n",
        "print(f\"Estimated slope (m): {slope:.3f}\")\n",
        "print(f\"Estimated intercept (c): {intercept:.3f}\")"
      ],
      "metadata": {
        "colab": {
          "base_uri": "https://localhost:8080/"
        },
        "id": "tMo9y2CPaSLO",
        "outputId": "46b49884-0835-4156-c621-9462916a70ee"
      },
      "execution_count": 12,
      "outputs": [
        {
          "output_type": "stream",
          "name": "stdout",
          "text": [
            "Estimated slope (m): 0.800\n",
            "Estimated intercept (c): 1.800\n"
          ]
        }
      ]
    }
  ]
}